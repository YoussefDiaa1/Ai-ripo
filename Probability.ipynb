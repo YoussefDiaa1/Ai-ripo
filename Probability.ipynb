{
  "nbformat": 4,
  "nbformat_minor": 0,
  "metadata": {
    "colab": {
      "provenance": [],
      "authorship_tag": "ABX9TyPLkmgMEpfOqn9d1wF5FTF4",
      "include_colab_link": true
    },
    "kernelspec": {
      "name": "python3",
      "display_name": "Python 3"
    },
    "language_info": {
      "name": "python"
    }
  },
  "cells": [
    {
      "cell_type": "markdown",
      "metadata": {
        "id": "view-in-github",
        "colab_type": "text"
      },
      "source": [
        "<a href=\"https://colab.research.google.com/github/YoussefDiaa1/ITI-ripo/blob/main/Probability.ipynb\" target=\"_parent\"><img src=\"https://colab.research.google.com/assets/colab-badge.svg\" alt=\"Open In Colab\"/></a>"
      ]
    },
    {
      "cell_type": "markdown",
      "source": [
        "## 1. Manual vs NumPy Mean"
      ],
      "metadata": {
        "id": "R7bcE7NlJu31"
      }
    },
    {
      "cell_type": "code",
      "source": [
        "ages = [18, 21, 20, 19, 22, 23, 20, 21, 22, 19]\n",
        "manual_mean = sum(ages) / len(ages)\n",
        "print(\"Manual Mean:\", manual_mean)"
      ],
      "metadata": {
        "colab": {
          "base_uri": "https://localhost:8080/"
        },
        "id": "eRvsOR6uJy9h",
        "outputId": "f90fe73f-b112-4f5e-cc61-fc1cdae81935"
      },
      "execution_count": 1,
      "outputs": [
        {
          "output_type": "stream",
          "name": "stdout",
          "text": [
            "Manual Mean: 20.5\n"
          ]
        }
      ]
    },
    {
      "cell_type": "code",
      "source": [
        "import numpy as np\n",
        "numpy_mean = np.mean(ages)\n",
        "print(\"NumPy Mean:\", numpy_mean)"
      ],
      "metadata": {
        "colab": {
          "base_uri": "https://localhost:8080/"
        },
        "id": "J4trIU-aJ3Oz",
        "outputId": "d526c5c0-df27-497b-f763-a5f98393f584"
      },
      "execution_count": 2,
      "outputs": [
        {
          "output_type": "stream",
          "name": "stdout",
          "text": [
            "NumPy Mean: 20.5\n"
          ]
        }
      ]
    },
    {
      "cell_type": "markdown",
      "source": [
        "## Median Without Sorting Function"
      ],
      "metadata": {
        "id": "79KpzyC6KTGy"
      }
    },
    {
      "cell_type": "code",
      "source": [
        "import random\n",
        "random_list = [random.randint(10, 50) for _ in range(15)]"
      ],
      "metadata": {
        "id": "OIVFSTDMJ706"
      },
      "execution_count": 3,
      "outputs": []
    },
    {
      "cell_type": "code",
      "source": [
        "sorted_list = sorted(random_list) # Manual\n",
        "n = len(sorted_list)\n",
        "if n % 2 == 1:\n",
        "    manual_median = sorted_list[n // 2]\n",
        "else:\n",
        "    mid = n // 2\n",
        "    manual_median = (sorted_list[mid - 1] + sorted_list[mid]) / 2\n",
        "print(\"Manual Median:\", manual_median)"
      ],
      "metadata": {
        "colab": {
          "base_uri": "https://localhost:8080/"
        },
        "id": "WD60LsWQKXZm",
        "outputId": "e9a4d0bc-04d5-422b-e6d9-30c8b24416ef"
      },
      "execution_count": 4,
      "outputs": [
        {
          "output_type": "stream",
          "name": "stdout",
          "text": [
            "Manual Median: 29\n"
          ]
        }
      ]
    },
    {
      "cell_type": "code",
      "source": [
        "numpy_median = np.median(random_list)\n",
        "print(\"NumPy Median:\", numpy_median)"
      ],
      "metadata": {
        "colab": {
          "base_uri": "https://localhost:8080/"
        },
        "id": "bs11uVSMKgfw",
        "outputId": "50b14521-0328-4db4-bbe1-e42c561404a0"
      },
      "execution_count": 5,
      "outputs": [
        {
          "output_type": "stream",
          "name": "stdout",
          "text": [
            "NumPy Median: 29.0\n"
          ]
        }
      ]
    },
    {
      "cell_type": "markdown",
      "source": [
        "## Range and Data Spread"
      ],
      "metadata": {
        "id": "3sBNilYQKpfa"
      }
    },
    {
      "cell_type": "code",
      "source": [
        "min_val = min(random_list)\n",
        "max_val = max(random_list)\n",
        "data_range = max_val - min_val\n",
        "print(f\"Manual Min: {min_val}, Max: {max_val}, Range: {data_range}\")"
      ],
      "metadata": {
        "colab": {
          "base_uri": "https://localhost:8080/"
        },
        "id": "4vRunuWfKmFr",
        "outputId": "8c332c76-e98e-4dd9-c320-09668fda90e6"
      },
      "execution_count": 6,
      "outputs": [
        {
          "output_type": "stream",
          "name": "stdout",
          "text": [
            "Manual Min: 16, Max: 47, Range: 31\n"
          ]
        }
      ]
    },
    {
      "cell_type": "code",
      "source": [
        "np_min = np.min(random_list)\n",
        "np_max = np.max(random_list)\n",
        "np_range = np_max - np_min\n",
        "print(f\"NumPy Min: {np_min}, Max: {np_max}, Range: {np_range}\")"
      ],
      "metadata": {
        "colab": {
          "base_uri": "https://localhost:8080/"
        },
        "id": "HPm6ireHKwSP",
        "outputId": "1d01e66a-ecdf-4dc5-f259-dc524a6f72c2"
      },
      "execution_count": 7,
      "outputs": [
        {
          "output_type": "stream",
          "name": "stdout",
          "text": [
            "NumPy Min: 16, Max: 47, Range: 31\n"
          ]
        }
      ]
    },
    {
      "cell_type": "markdown",
      "source": [
        "##  Variance & Standard Deviation"
      ],
      "metadata": {
        "id": "1PgCf21qK8CM"
      }
    },
    {
      "cell_type": "code",
      "source": [
        "data = [5, 7, 3, 7, 9, 10, 15, 7]\n",
        "mean = sum(data) / len(data)\n",
        "squared_diffs = [(x - mean) ** 2 for x in data]\n",
        "population_var = sum(squared_diffs) / len(data)  # Population variance\n",
        "sample_var = sum(squared_diffs) / (len(data) - 1)  # Sample variance\n",
        "std_dev = population_var ** 0.5\n",
        "\n",
        "print(\"Manual Population Variance:\", population_var)\n",
        "print(\"Manual Sample Variance:\", sample_var)\n",
        "print(\"Manual Standard Deviation:\", std_dev)"
      ],
      "metadata": {
        "colab": {
          "base_uri": "https://localhost:8080/"
        },
        "id": "3hKx_52tKzwv",
        "outputId": "2c4eb787-5c28-4cb7-c1fb-07c19bb73968"
      },
      "execution_count": 8,
      "outputs": [
        {
          "output_type": "stream",
          "name": "stdout",
          "text": [
            "Manual Population Variance: 11.359375\n",
            "Manual Sample Variance: 12.982142857142858\n",
            "Manual Standard Deviation: 3.370367190678191\n"
          ]
        }
      ]
    },
    {
      "cell_type": "code",
      "source": [
        "print(\"NumPy Population Variance:\", np.var(data))\n",
        "print(\"NumPy Sample Variance:\", np.var(data, ddof=1))\n",
        "print(\"NumPy Standard Deviation:\", np.std(data))"
      ],
      "metadata": {
        "colab": {
          "base_uri": "https://localhost:8080/"
        },
        "id": "dp5KIiAOLHZY",
        "outputId": "21f34f2d-2ea2-4da4-ad0d-5560560a37dd"
      },
      "execution_count": 9,
      "outputs": [
        {
          "output_type": "stream",
          "name": "stdout",
          "text": [
            "NumPy Population Variance: 11.359375\n",
            "NumPy Sample Variance: 12.982142857142858\n",
            "NumPy Standard Deviation: 3.370367190678191\n"
          ]
        }
      ]
    },
    {
      "cell_type": "markdown",
      "source": [
        "##  Quartiles & IQR"
      ],
      "metadata": {
        "id": "alZeDl2ALQNm"
      }
    },
    {
      "cell_type": "code",
      "source": [
        "q1 = np.percentile(data, 25)  # 25th percentile\n",
        "q2 = np.percentile(data, 50)  # 50th percentile (median)\n",
        "q3 = np.percentile(data, 75)  # 75th percentile\n",
        "iqr = q3 - q1\n",
        "\n",
        "print(f\"Q1: {q1}, Q2: {q2}, Q3: {q3}, IQR: {iqr}\")"
      ],
      "metadata": {
        "colab": {
          "base_uri": "https://localhost:8080/"
        },
        "id": "gzw0yeIbLUMg",
        "outputId": "3def74cd-2dfc-4f83-df97-b7add11cf833"
      },
      "execution_count": 10,
      "outputs": [
        {
          "output_type": "stream",
          "name": "stdout",
          "text": [
            "Q1: 6.5, Q2: 7.0, Q3: 9.25, IQR: 2.75\n"
          ]
        }
      ]
    },
    {
      "cell_type": "markdown",
      "source": [
        "##  Z-Score Normalization"
      ],
      "metadata": {
        "id": "B1HdizjkLnLq"
      }
    },
    {
      "cell_type": "code",
      "source": [
        "def z_score_normalize(data):\n",
        "    mean = sum(data) / len(data)\n",
        "    variance = sum((x - mean) ** 2 for x in data) / len(data)\n",
        "    std_dev = variance ** 0.5\n",
        "    z_scores = [(x - mean) / std_dev for x in data]\n",
        "    return z_scores\n",
        "\n",
        "data = [5, 7, 3, 7, 9, 10, 15, 7]\n",
        "z_scores_manual = z_score_normalize(data)\n",
        "print(\"Manual Z-Scores:\", [round(z, 4) for z in z_scores_manual])"
      ],
      "metadata": {
        "colab": {
          "base_uri": "https://localhost:8080/"
        },
        "id": "6ynDJmnQLjrW",
        "outputId": "6839c019-3762-497b-b2a5-3b4d3718e3e0"
      },
      "execution_count": 11,
      "outputs": [
        {
          "output_type": "stream",
          "name": "stdout",
          "text": [
            "Manual Z-Scores: [-0.853, -0.2596, -1.4464, -0.2596, 0.3338, 0.6305, 2.114, -0.2596]\n"
          ]
        }
      ]
    },
    {
      "cell_type": "markdown",
      "source": [
        "## Moving Average"
      ],
      "metadata": {
        "id": "I0zCKNTzL1Xu"
      }
    },
    {
      "cell_type": "code",
      "source": [
        "data = [random.randint(1, 100) for _ in range(20)]"
      ],
      "metadata": {
        "id": "1tprPflUL2UC"
      },
      "execution_count": 12,
      "outputs": []
    },
    {
      "cell_type": "code",
      "source": [
        "moving_avg_manual = [\n",
        "    sum(data[i:i+3]) / 3\n",
        "    for i in range(len(data) - 2)\n",
        "]\n",
        "print(\"Manual Moving Average:\", moving_avg_manual)"
      ],
      "metadata": {
        "colab": {
          "base_uri": "https://localhost:8080/"
        },
        "id": "7RoeryJLL7IU",
        "outputId": "b34742fa-24b9-4133-9fdd-898ea19904cf"
      },
      "execution_count": 13,
      "outputs": [
        {
          "output_type": "stream",
          "name": "stdout",
          "text": [
            "Manual Moving Average: [51.333333333333336, 24.333333333333332, 39.333333333333336, 56.0, 83.0, 84.66666666666667, 82.33333333333333, 80.0, 77.66666666666667, 61.0, 46.666666666666664, 42.666666666666664, 56.333333333333336, 69.33333333333333, 66.66666666666667, 77.33333333333333, 67.33333333333333, 51.666666666666664]\n"
          ]
        }
      ]
    },
    {
      "cell_type": "code",
      "source": [
        "window = np.ones(3) / 3\n",
        "moving_avg_numpy = np.convolve(data, window, mode='valid')\n",
        "print(\"NumPy Moving Average:\", moving_avg_numpy)"
      ],
      "metadata": {
        "colab": {
          "base_uri": "https://localhost:8080/"
        },
        "id": "QEkZd4YiL9cy",
        "outputId": "dcab4cb7-33a4-4384-fbd0-f149c8f42f24"
      },
      "execution_count": 14,
      "outputs": [
        {
          "output_type": "stream",
          "name": "stdout",
          "text": [
            "NumPy Moving Average: [51.33333333 24.33333333 39.33333333 56.         83.         84.66666667\n",
            " 82.33333333 80.         77.66666667 61.         46.66666667 42.66666667\n",
            " 56.33333333 69.33333333 66.66666667 77.33333333 67.33333333 51.66666667]\n"
          ]
        }
      ]
    },
    {
      "cell_type": "markdown",
      "source": [
        "## Outlier Detection (IQR Method)"
      ],
      "metadata": {
        "id": "xRwohseRMH8D"
      }
    },
    {
      "cell_type": "code",
      "source": [
        "data = [random.randint(1, 50) for _ in range(25)] + [300, 400]"
      ],
      "metadata": {
        "id": "4BFtc9M8MANr"
      },
      "execution_count": 15,
      "outputs": []
    },
    {
      "cell_type": "code",
      "source": [
        "q1 = np.percentile(data, 25)\n",
        "q3 = np.percentile(data, 75)\n",
        "iqr = q3 - q1\n",
        "lower_bound = q1 - 1.5 * iqr\n",
        "upper_bound = q3 + 1.5 * iqr\n",
        "\n",
        "outliers = [x for x in data if x < lower_bound or x > upper_bound]\n",
        "print(\"Outliers:\", outliers)"
      ],
      "metadata": {
        "colab": {
          "base_uri": "https://localhost:8080/"
        },
        "id": "fgVyda8hMMxR",
        "outputId": "2d779dba-56fe-4aaf-d847-081f10c149b2"
      },
      "execution_count": 16,
      "outputs": [
        {
          "output_type": "stream",
          "name": "stdout",
          "text": [
            "Outliers: [300, 400]\n"
          ]
        }
      ]
    },
    {
      "cell_type": "code",
      "source": [],
      "metadata": {
        "id": "69gC26lVMPmW"
      },
      "execution_count": null,
      "outputs": []
    }
  ]
}