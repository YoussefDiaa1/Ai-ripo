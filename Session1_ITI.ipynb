{
  "nbformat": 4,
  "nbformat_minor": 0,
  "metadata": {
    "colab": {
      "provenance": [],
      "authorship_tag": "ABX9TyM8CsPwhPAEWjiYn0FsX9rA",
      "include_colab_link": true
    },
    "kernelspec": {
      "name": "python3",
      "display_name": "Python 3"
    },
    "language_info": {
      "name": "python"
    }
  },
  "cells": [
    {
      "cell_type": "markdown",
      "metadata": {
        "id": "view-in-github",
        "colab_type": "text"
      },
      "source": [
        "<a href=\"https://colab.research.google.com/github/YoussefDiaa1/Ai-ripo/blob/main/Session1_ITI.ipynb\" target=\"_parent\"><img src=\"https://colab.research.google.com/assets/colab-badge.svg\" alt=\"Open In Colab\"/></a>"
      ]
    },
    {
      "cell_type": "code",
      "execution_count": 1,
      "metadata": {
        "colab": {
          "base_uri": "https://localhost:8080/"
        },
        "id": "s-vOpk_nX7Rf",
        "outputId": "c272bb35-058b-4e68-a057-99bd9df719ca"
      },
      "outputs": [
        {
          "output_type": "stream",
          "name": "stdout",
          "text": [
            "7\n",
            "2\n",
            "17\n",
            "27\n",
            "1.6666666666666667\n",
            "1\n",
            "2\n"
          ]
        }
      ],
      "source": [
        "num1 = 3\n",
        "num2 = 4\n",
        "num3 = 5\n",
        "print(num1 + num2)\n",
        "print(num3 - num1)\n",
        "print(num1 * num2 + num3)\n",
        "print(num1 * (num2 + num3))\n",
        "print(num3 / num1)\n",
        "print(num3 // num1)\n",
        "print(num3 % num1)\n"
      ]
    },
    {
      "cell_type": "code",
      "source": [
        "# Convert to float\n",
        "num1 = float(num1)\n",
        "num2 = float(num2)\n",
        "num3 = float(num3)\n",
        "\n",
        "print(num1 + num2)\n",
        "print(num3 - num1)\n",
        "print(num1 * num2 + num3)\n",
        "print(num1 * (num2 + num3))\n",
        "print(num3 / num1)\n",
        "print(num3 // num1)\n",
        "print(num3 % num1)"
      ],
      "metadata": {
        "colab": {
          "base_uri": "https://localhost:8080/"
        },
        "id": "4Nt-VGx2mwm4",
        "outputId": "89773fc6-98b0-4fb9-990d-70911300b339"
      },
      "execution_count": 2,
      "outputs": [
        {
          "output_type": "stream",
          "name": "stdout",
          "text": [
            "7.0\n",
            "2.0\n",
            "17.0\n",
            "27.0\n",
            "1.6666666666666667\n",
            "1.0\n",
            "2.0\n"
          ]
        }
      ]
    },
    {
      "cell_type": "code",
      "source": [
        "x, y, z, g = 1, 2, 3, 4\n",
        "\n",
        "result_a = x + y * z / g\n",
        "\n",
        "result_b = y * z**g\n",
        "\n",
        "print(f\"a) {result_a}, b) {result_b}\")"
      ],
      "metadata": {
        "colab": {
          "base_uri": "https://localhost:8080/"
        },
        "id": "BJfv9xjJnh_v",
        "outputId": "d5371ddb-ff35-474f-a231-a74a4d69c6ad"
      },
      "execution_count": 3,
      "outputs": [
        {
          "output_type": "stream",
          "name": "stdout",
          "text": [
            "a) 2.5, b) 162\n"
          ]
        }
      ]
    },
    {
      "cell_type": "code",
      "source": [
        "str_a = \"Python\"\n",
        "str_b = \"is a\"\n",
        "str_c = \"times fun language\"\n",
        "num = 1000\n",
        "\n",
        "str_ab = str_a + \" \" + str_b + \" \" + str(num) + \" \" + str_c\n",
        "\n",
        "str_all0 = str_a * 10\n",
        "\n",
        "print(f\"3a) {str_ab}\\n3b) {str_all0}\")"
      ],
      "metadata": {
        "colab": {
          "base_uri": "https://localhost:8080/"
        },
        "id": "0kNHwLXvn0T5",
        "outputId": "d7254ea0-269c-4fb6-9255-58f8ac6ed9f2"
      },
      "execution_count": 4,
      "outputs": [
        {
          "output_type": "stream",
          "name": "stdout",
          "text": [
            "3a) Python is a 1000 times fun language\n",
            "3b) PythonPythonPythonPythonPythonPythonPythonPythonPythonPython\n"
          ]
        }
      ]
    },
    {
      "cell_type": "code",
      "source": [
        "import math\n",
        "\n",
        "num_1 = -5\n",
        "num_2 = 3.2\n",
        "num_3 = 5.7\n",
        "num_4 = 625\n",
        "\n",
        "abs_val = abs(num_1)\n",
        "\n",
        "\n",
        "round_2 = round(num_2)\n",
        "round_3 = round(num_3)\n",
        "\n",
        "sqrt_val = math.sqrt(num_4)\n",
        "\n",
        "print(f\"a) {abs_val}, b) num_2→{round_2}, num_3→{round_3}, c) {sqrt_val}\")"
      ],
      "metadata": {
        "colab": {
          "base_uri": "https://localhost:8080/"
        },
        "id": "eL7hdsmJoSXP",
        "outputId": "746fda58-3d29-42ba-a166-e0b2b4ba1ca4"
      },
      "execution_count": 6,
      "outputs": [
        {
          "output_type": "stream",
          "name": "stdout",
          "text": [
            "a) 5, b) num_2→3, num_3→6, c) 25.0\n"
          ]
        }
      ]
    },
    {
      "cell_type": "code",
      "source": [
        "num1 = float(input(\"Enter first number: \"))\n",
        "num2 = float(input(\"Enter second number: \"))\n",
        "\n",
        "result = num1 * num2\n",
        "print(f\"Result: {num1} × {num2} = {result}\")"
      ],
      "metadata": {
        "colab": {
          "base_uri": "https://localhost:8080/"
        },
        "id": "kKnzpGp_ogOX",
        "outputId": "d802efd4-4fbb-4069-fb1a-d415ac0ce3c6"
      },
      "execution_count": 7,
      "outputs": [
        {
          "output_type": "stream",
          "name": "stdout",
          "text": [
            "Enter first number: 3\n",
            "Enter second number: 3\n",
            "Result: 3.0 × 3.0 = 9.0\n"
          ]
        }
      ]
    },
    {
      "cell_type": "code",
      "source": [
        "num = int(input(\"Enter a number: \"))\n",
        "if num % 2 == 0:\n",
        "    print(f\"{num} is even\")\n",
        "else:\n",
        "    print(f\"{num} is odd\")"
      ],
      "metadata": {
        "colab": {
          "base_uri": "https://localhost:8080/"
        },
        "id": "ncPgnp1gpcpZ",
        "outputId": "d763ed5c-acd5-4cf4-dfc3-1f4903344545"
      },
      "execution_count": 8,
      "outputs": [
        {
          "output_type": "stream",
          "name": "stdout",
          "text": [
            "Enter a number: 3\n",
            "3 is odd\n"
          ]
        }
      ]
    },
    {
      "cell_type": "code",
      "source": [
        "score = float(input(\"Enter student's score (0-100): \"))\n",
        "if score >= 50:\n",
        "    print(\"Pass\")\n",
        "else:\n",
        "    print(\"Fail\")"
      ],
      "metadata": {
        "colab": {
          "base_uri": "https://localhost:8080/"
        },
        "id": "fL-8hOkNpgmH",
        "outputId": "48ea6763-b47d-46d9-999b-631dee9841b9"
      },
      "execution_count": 9,
      "outputs": [
        {
          "output_type": "stream",
          "name": "stdout",
          "text": [
            "Enter student's score (0-100): 50\n",
            "Pass\n"
          ]
        }
      ]
    },
    {
      "cell_type": "code",
      "source": [
        "num1 = float(input(\"Enter first number: \"))\n",
        "num2 = float(input(\"Enter second number: \"))\n",
        "num3 = float(input(\"Enter third number: \"))\n",
        "\n",
        "largest = num1\n",
        "if num2 > largest:\n",
        "    largest = num2\n",
        "if num3 > largest:\n",
        "    largest = num3\n",
        "\n",
        "print(f\"The largest number is {largest}\")"
      ],
      "metadata": {
        "colab": {
          "base_uri": "https://localhost:8080/"
        },
        "id": "91jKn6JBpmeR",
        "outputId": "0c591357-3ba7-48d3-c6cb-35f504b0a287"
      },
      "execution_count": 10,
      "outputs": [
        {
          "output_type": "stream",
          "name": "stdout",
          "text": [
            "Enter first number: 1\n",
            "Enter second number: 2\n",
            "Enter third number: 3\n",
            "The largest number is 3.0\n"
          ]
        }
      ]
    },
    {
      "cell_type": "code",
      "source": [
        "print(\"Numbers from 1 to 10:\")\n",
        "for i in range(1, 11):\n",
        "    print(i, end=' ')"
      ],
      "metadata": {
        "colab": {
          "base_uri": "https://localhost:8080/"
        },
        "id": "LimyaBWcpvcv",
        "outputId": "9cdcc7a2-d056-431f-f0a9-395768dfb5b4"
      },
      "execution_count": 11,
      "outputs": [
        {
          "output_type": "stream",
          "name": "stdout",
          "text": [
            "Numbers from 1 to 10:\n",
            "1 2 3 4 5 6 7 8 9 10 "
          ]
        }
      ]
    },
    {
      "cell_type": "code",
      "source": [
        "score = float(input(\"Enter student's score: \"))\n",
        "\n",
        "if score >= 90:\n",
        "    grade = \"A\"\n",
        "elif score >= 80:\n",
        "    grade = \"B\"\n",
        "elif score >= 70:\n",
        "    grade = \"C\"\n",
        "elif score >= 60:\n",
        "    grade = \"D\"\n",
        "else:\n",
        "    grade = \"F\"\n",
        "\n",
        "print(f\"Grade: {grade}\")"
      ],
      "metadata": {
        "colab": {
          "base_uri": "https://localhost:8080/"
        },
        "id": "OusZbwR5qBBc",
        "outputId": "02a861d5-d397-472c-8154-b1e4a82c4c4f"
      },
      "execution_count": 12,
      "outputs": [
        {
          "output_type": "stream",
          "name": "stdout",
          "text": [
            "Enter student's score: 94\n",
            "Grade: A\n"
          ]
        }
      ]
    },
    {
      "cell_type": "code",
      "source": [
        "num = int(input(\"Enter a number: \"))\n",
        "print(f\"Multiplication table for {num}:\")\n",
        "for i in range(1, 11):\n",
        "    print(f\"{num} x {i} = {num*i}\")"
      ],
      "metadata": {
        "colab": {
          "base_uri": "https://localhost:8080/"
        },
        "id": "5N09UvPFqEa2",
        "outputId": "b340c140-7e1f-4ec0-ae26-1495cf07db8f"
      },
      "execution_count": 13,
      "outputs": [
        {
          "output_type": "stream",
          "name": "stdout",
          "text": [
            "Enter a number: 5\n",
            "Multiplication table for 5:\n",
            "5 x 1 = 5\n",
            "5 x 2 = 10\n",
            "5 x 3 = 15\n",
            "5 x 4 = 20\n",
            "5 x 5 = 25\n",
            "5 x 6 = 30\n",
            "5 x 7 = 35\n",
            "5 x 8 = 40\n",
            "5 x 9 = 45\n",
            "5 x 10 = 50\n"
          ]
        }
      ]
    },
    {
      "cell_type": "code",
      "source": [
        "total = 0\n",
        "for num in range(2, 51, 2):\n",
        "    total += num\n",
        "print(f\"Sum of even numbers between 1-50: {total}\")"
      ],
      "metadata": {
        "colab": {
          "base_uri": "https://localhost:8080/"
        },
        "id": "S2-gi8fuqJ_7",
        "outputId": "647707bb-1308-47c7-bc1c-b63d051bbbed"
      },
      "execution_count": 14,
      "outputs": [
        {
          "output_type": "stream",
          "name": "stdout",
          "text": [
            "Sum of even numbers between 1-50: 650\n"
          ]
        }
      ]
    },
    {
      "cell_type": "code",
      "source": [
        "num = int(input(\"Enter a positive integer: \"))\n",
        "factorial = 1\n",
        "counter = 1\n",
        "\n",
        "while counter <= num:\n",
        "    factorial *= counter\n",
        "    counter += 1\n",
        "\n",
        "print(f\"{num}! = {factorial}\")"
      ],
      "metadata": {
        "colab": {
          "base_uri": "https://localhost:8080/"
        },
        "id": "0Nl2j2w0qU8l",
        "outputId": "7f4bb920-e5cc-40da-b5c0-b9f51f7d0a3e"
      },
      "execution_count": 15,
      "outputs": [
        {
          "output_type": "stream",
          "name": "stdout",
          "text": [
            "Enter a positive integer: 5\n",
            "5! = 120\n"
          ]
        }
      ]
    },
    {
      "cell_type": "code",
      "source": [],
      "metadata": {
        "id": "yMVHTHc2qaen"
      },
      "execution_count": null,
      "outputs": []
    }
  ]
}